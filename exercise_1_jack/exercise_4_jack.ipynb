{
 "cells": [
  {
   "cell_type": "code",
   "id": "initial_id",
   "metadata": {
    "collapsed": true,
    "ExecuteTime": {
     "end_time": "2025-01-02T16:28:01.687555Z",
     "start_time": "2025-01-02T16:27:44.147237Z"
    }
   },
   "source": [
    "import pandas as pd\n",
    "import numpy as np\n",
    "import matplotlib.pyplot as plt\n",
    "from sklearn.preprocessing import StandardScaler\n",
    "from sklearn.decomposition import PCA\n",
    "import random\n",
    "\n",
    "import pandas as pd\n",
    "\n",
    "file_path = \"web_service_dataset.csv\"\n",
    "df = pd.read_csv(file_path)\n"
   ],
   "outputs": [],
   "execution_count": 1
  },
  {
   "metadata": {},
   "cell_type": "code",
   "outputs": [],
   "execution_count": null,
   "source": "df",
   "id": "51e5e39086873a7f"
  },
  {
   "metadata": {
    "ExecuteTime": {
     "end_time": "2025-01-02T16:28:03.583877Z",
     "start_time": "2025-01-02T16:28:01.693570Z"
    }
   },
   "cell_type": "code",
   "source": [
    "# 4.1\n",
    "# Group by the specified columns\n",
    "grouped = df.groupby(['src_ip', 'src_port', 'dst_ip', 'dst_port', 'web_service'])\n",
    "\n",
    "# Count the number of flows in each group\n",
    "group_counts = grouped.size()\n",
    "\n",
    "# Filter out groups with fewer than 10 flows\n",
    "filtered_groups = group_counts[group_counts >= 10]\n",
    "\n",
    "# Count the remaining groups\n",
    "num_remaining_groups = filtered_groups.shape[0]\n",
    "\n",
    "print(f\"Total number of groups: {group_counts.shape[0]}\")\n",
    "print(f\"Number of groups with at least 10 flows: {num_remaining_groups}\")"
   ],
   "id": "e68b245efef41148",
   "outputs": [
    {
     "name": "stdout",
     "output_type": "stream",
     "text": [
      "Total number of groups: 2433314\n",
      "Number of groups with at least 10 flows: 2057\n"
     ]
    }
   ],
   "execution_count": 2
  },
  {
   "metadata": {},
   "cell_type": "code",
   "outputs": [],
   "execution_count": null,
   "source": "",
   "id": "56bc7939f5ab107a"
  },
  {
   "metadata": {
    "ExecuteTime": {
     "end_time": "2025-01-02T16:29:51.372636Z",
     "start_time": "2025-01-02T16:28:34.421243Z"
    }
   },
   "cell_type": "code",
   "source": [
    "# 4.2\n",
    "# Step 1: Filter out classes with less than 400 flows\n",
    "web_service_counts = df['web_service'].value_counts()\n",
    "valid_web_services = web_service_counts[web_service_counts >= 400].index\n",
    "df_filtered = df[df['web_service'].isin(valid_web_services)]\n",
    "\n",
    "# Step 2: Segment each sub-dataset into chunks of 10 flows\n",
    "chunks = []\n",
    "for web_service in valid_web_services:\n",
    "    sub_df = df_filtered[df_filtered['web_service'] == web_service]\n",
    "    num_chunks = len(sub_df) // 10\n",
    "    for i in range(num_chunks):\n",
    "        chunk = sub_df.iloc[i*10:(i+1)*10]\n",
    "        chunks.append(chunk)\n",
    "\n",
    "# Step 3: Remove redundant information and keep only useful features\n",
    "# Assuming useful features are 'src_ip', 'dst_ip', 'src_port', 'dst_port', 'pktTotalCount', 'octetTotalCount', 'category', 'web_service'\n",
    "useful_features = ['src_ip', 'dst_ip', 'src_port', 'dst_port', 'pktTotalCount', 'octetTotalCount', 'category', 'web_service']\n",
    "chunks = [chunk[useful_features] for chunk in chunks]\n",
    "\n",
    "# Step 4: Count the number of chunks and classes\n",
    "num_chunks = len(chunks)\n",
    "num_classes = len(valid_web_services)\n",
    "\n",
    "# Step 5: Check if the sample quantities of all classes are balanced\n",
    "class_counts = df_filtered['web_service'].value_counts()\n",
    "balanced = class_counts.min() == class_counts.max()\n",
    "\n",
    "print(f\"Number of chunks (samples): {num_chunks}\")\n",
    "print(f\"Number of classes: {num_classes}\")\n",
    "print(f\"Are the sample quantities of all classes balanced? {'Yes' if balanced else 'No'}\")"
   ],
   "id": "c96425b2c385a409",
   "outputs": [
    {
     "name": "stdout",
     "output_type": "stream",
     "text": [
      "Number of chunks (samples): 269912\n",
      "Number of classes: 72\n",
      "Are the sample quantities of all classes balanced? No\n"
     ]
    }
   ],
   "execution_count": 3
  }
 ],
 "metadata": {
  "kernelspec": {
   "display_name": "Python 3",
   "language": "python",
   "name": "python3"
  },
  "language_info": {
   "codemirror_mode": {
    "name": "ipython",
    "version": 2
   },
   "file_extension": ".py",
   "mimetype": "text/x-python",
   "name": "python",
   "nbconvert_exporter": "python",
   "pygments_lexer": "ipython2",
   "version": "2.7.6"
  }
 },
 "nbformat": 4,
 "nbformat_minor": 5
}
