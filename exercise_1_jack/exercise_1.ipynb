{
 "cells": [
  {
   "metadata": {},
   "cell_type": "code",
   "outputs": [],
   "execution_count": null,
   "source": "print('I like ML4N)))))))))')",
   "id": "cc0cb321421b6447"
  }
 ],
 "metadata": {},
 "nbformat": 5,
 "nbformat_minor": 9
}
